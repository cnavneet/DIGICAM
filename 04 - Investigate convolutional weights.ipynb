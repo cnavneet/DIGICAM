{
 "cells": [
  {
   "cell_type": "code",
   "execution_count": 1,
   "metadata": {},
   "outputs": [],
   "source": [
    "import tensorflow as tf\n",
    "import matplotlib.pyplot as plt\n",
    "%matplotlib inline"
   ]
  },
  {
   "cell_type": "code",
   "execution_count": 2,
   "metadata": {},
   "outputs": [
    {
     "data": {
      "application/javascript": [
       "IPython.OutputArea.auto_scroll_threshold = 9999;"
      ],
      "text/plain": [
       "<IPython.core.display.Javascript object>"
      ]
     },
     "metadata": {},
     "output_type": "display_data"
    }
   ],
   "source": [
    "%%javascript\n",
    "IPython.OutputArea.auto_scroll_threshold = 9999;"
   ]
  },
  {
   "cell_type": "code",
   "execution_count": 5,
   "metadata": {},
   "outputs": [
    {
     "name": "stdout",
     "output_type": "stream",
     "text": [
      "INFO:tensorflow:Restoring parameters from save/16-08-07-03-27-35.ckpt-0\n",
      "Model restored.\n",
      "[5, 5, 1, 16]\n"
     ]
    },
    {
     "data": {
      "image/png": "[encoded data removed]",
      "text/plain": [
       "<Figure size 288x288 with 16 Axes>"
      ]
     },
     "metadata": {},
     "output_type": "display_data"
    },
    {
     "data": {
      "text/plain": [
       "<Figure size 720x720 with 0 Axes>"
      ]
     },
     "metadata": {},
     "output_type": "display_data"
    },
    {
     "data": {
      "image/png": "[encoded data removed]",
      "text/plain": [
       "<Figure size 648x288 with 32 Axes>"
      ]
     },
     "metadata": {},
     "output_type": "display_data"
    }
   ],
   "source": [
    "batch_size=1\n",
    "img_width, img_height = 28, 28\n",
    "patch_size=5\n",
    "stddev = 0.1\n",
    "\n",
    "graph = tf.Graph()\n",
    "with graph.as_default():\n",
    "    #tf_input = tf.placeholder(tf.float32, shape=(1, img_height, img_width, 1), name=\"tf_train_dataset\")\n",
    "    tf_input_1 = tf.ones(shape=(1, img_height, img_width, 1))\n",
    "        \n",
    "    all_layers = [1, 16, 32]\n",
    "    cnns = []\n",
    "    \n",
    "    weights = []\n",
    "    biases = []\n",
    "    for i in range(len(all_layers) - 1):\n",
    "        weights.append(\n",
    "            tf.Variable(\n",
    "            tf.truncated_normal([\n",
    "                    patch_size,\n",
    "                    patch_size,\n",
    "                    all_layers[i],\n",
    "                    all_layers[i + 1]], stddev=stddev), name=\"layer%d_weights\" % i))\n",
    "\n",
    "        biases.append(tf.Variable(\n",
    "            tf.constant(\n",
    "                0.1,\n",
    "                shape=[all_layers[i + 1]]),\n",
    "            name=\"layer%d_biases\" % i))\n",
    "            \n",
    "# Create a session to load the checkpoint and extract the weights\n",
    "with tf.Session(graph=graph) as sess:\n",
    "    saver = tf.train.Saver()\n",
    "    # Restore variables from disk.\n",
    "    graph = saver.restore(sess, \"save/16-08-07-03-27-35.ckpt-0\")\n",
    "    print(\"Model restored.\")\n",
    "    \n",
    "    print(weights[0].get_shape().as_list())\n",
    "    data = weights[0].eval()\n",
    "            \n",
    "    f, axarr = plt.subplots(4, 4, figsize=(4,4))\n",
    "    for i in range(16):\n",
    "        pic = data[:, :, 0, i]\n",
    "        canvas = axarr[i % 4, (i//4) % 4]\n",
    "        #canvas.set_title(i+1, x=-.2, y=0)\n",
    "        canvas.imshow(pic, cmap='gray')\n",
    "        canvas.axis('off')\n",
    "    #plt.title(\"Convolutional weights - layer 1\")\n",
    "    plt.show()\n",
    "        \n",
    "    data = weights[1].eval()\n",
    "    plt.figure(figsize=(10,10))\n",
    "    f, axarr = plt.subplots(4, 8, figsize=(9,4))\n",
    "    #plt.title(\"Convolutional weights - layer 2\")\n",
    "    for i in range(32):\n",
    "        pic = data[:, :, 0, i]\n",
    "        canvas = axarr[i % 4, (i//4) % 8]\n",
    "        #canvas.set_title(i+1)\n",
    "        canvas.imshow(pic, cmap='gray')\n",
    "        canvas.axis('off')\n",
    "    plt.show()"
   ]
  },
  {
   "cell_type": "code",
   "execution_count": null,
   "metadata": {},
   "outputs": [],
   "source": []
  }
 ],
 "metadata": {
  "kernelspec": {
   "display_name": "Python 3",
   "language": "python",
   "name": "python3"
  },
  "language_info": {
   "codemirror_mode": {
    "name": "ipython",
    "version": 3
   },
   "file_extension": ".py",
   "mimetype": "text/x-python",
   "name": "python",
   "nbconvert_exporter": "python",
   "pygments_lexer": "ipython3",
   "version": "3.6.4"
  }
 },
 "nbformat": 4,
 "nbformat_minor": 2
}
